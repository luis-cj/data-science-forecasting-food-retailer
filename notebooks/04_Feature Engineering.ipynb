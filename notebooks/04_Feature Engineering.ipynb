{
 "cells": [
  {
   "cell_type": "markdown",
   "metadata": {},
   "source": [
    "# Feature Engineering"
   ]
  },
  {
   "cell_type": "markdown",
   "metadata": {},
   "source": [
    "## Import libraries"
   ]
  },
  {
   "cell_type": "code",
   "execution_count": 1,
   "metadata": {},
   "outputs": [],
   "source": [
    "import numpy as np\n",
    "import pandas as pd\n",
    "import matplotlib.pyplot as plt\n",
    "\n",
    "from sklearn.preprocessing import OneHotEncoder\n",
    "from category_encoders import TargetEncoder"
   ]
  },
  {
   "cell_type": "markdown",
   "metadata": {},
   "source": [
    "## Load the data"
   ]
  },
  {
   "cell_type": "code",
   "execution_count": 2,
   "metadata": {},
   "outputs": [],
   "source": [
    "cat = pd.read_pickle(\"../data/cat_eda.pickle\")\n",
    "num = pd.read_pickle(\"../data/num_eda.pickle\")"
   ]
  },
  {
   "cell_type": "markdown",
   "metadata": {},
   "source": [
    "## Create new variables"
   ]
  },
  {
   "cell_type": "markdown",
   "metadata": {},
   "source": [
    "### In order to make our forecasting model more accurate it is good practice to include new variables that capture the intermitent demand as well as the stock outage. To do that we need:\n",
    "\n",
    "- Calendar variables (year, month, wday and weekday - already created in the dataset)\n",
    "- Intermitent demand variables\n",
    "- Lag variables\n",
    "- Moving averages"
   ]
  },
  {
   "cell_type": "markdown",
   "metadata": {},
   "source": [
    "#### Let's join the datasets again in a single dataframe to do it."
   ]
  },
  {
   "cell_type": "code",
   "execution_count": 4,
   "metadata": {},
   "outputs": [
    {
     "data": {
      "text/html": [
       "<div>\n",
       "<style scoped>\n",
       "    .dataframe tbody tr th:only-of-type {\n",
       "        vertical-align: middle;\n",
       "    }\n",
       "\n",
       "    .dataframe tbody tr th {\n",
       "        vertical-align: top;\n",
       "    }\n",
       "\n",
       "    .dataframe thead th {\n",
       "        text-align: right;\n",
       "    }\n",
       "</style>\n",
       "<table border=\"1\" class=\"dataframe\">\n",
       "  <thead>\n",
       "    <tr style=\"text-align: right;\">\n",
       "      <th></th>\n",
       "      <th>store_id</th>\n",
       "      <th>item_id</th>\n",
       "      <th>d</th>\n",
       "      <th>year</th>\n",
       "      <th>month</th>\n",
       "      <th>wday</th>\n",
       "      <th>weekday</th>\n",
       "      <th>event_name_1</th>\n",
       "      <th>event_type_1</th>\n",
       "      <th>wm_yr_wk</th>\n",
       "      <th>sales</th>\n",
       "      <th>sell_price</th>\n",
       "    </tr>\n",
       "    <tr>\n",
       "      <th>date</th>\n",
       "      <th></th>\n",
       "      <th></th>\n",
       "      <th></th>\n",
       "      <th></th>\n",
       "      <th></th>\n",
       "      <th></th>\n",
       "      <th></th>\n",
       "      <th></th>\n",
       "      <th></th>\n",
       "      <th></th>\n",
       "      <th></th>\n",
       "      <th></th>\n",
       "    </tr>\n",
       "  </thead>\n",
       "  <tbody>\n",
       "    <tr>\n",
       "      <th>2013-01-01</th>\n",
       "      <td>CA_3</td>\n",
       "      <td>FOODS_3_090</td>\n",
       "      <td>d_704</td>\n",
       "      <td>2013</td>\n",
       "      <td>1</td>\n",
       "      <td>4</td>\n",
       "      <td>Tuesday</td>\n",
       "      <td>NewYear</td>\n",
       "      <td>National</td>\n",
       "      <td>11249</td>\n",
       "      <td>0</td>\n",
       "      <td>1.25</td>\n",
       "    </tr>\n",
       "    <tr>\n",
       "      <th>2013-01-01</th>\n",
       "      <td>CA_3</td>\n",
       "      <td>FOODS_3_120</td>\n",
       "      <td>d_704</td>\n",
       "      <td>2013</td>\n",
       "      <td>1</td>\n",
       "      <td>4</td>\n",
       "      <td>Tuesday</td>\n",
       "      <td>NewYear</td>\n",
       "      <td>National</td>\n",
       "      <td>11249</td>\n",
       "      <td>33</td>\n",
       "      <td>1.25</td>\n",
       "    </tr>\n",
       "    <tr>\n",
       "      <th>2013-01-01</th>\n",
       "      <td>CA_3</td>\n",
       "      <td>FOODS_3_202</td>\n",
       "      <td>d_704</td>\n",
       "      <td>2013</td>\n",
       "      <td>1</td>\n",
       "      <td>4</td>\n",
       "      <td>Tuesday</td>\n",
       "      <td>NewYear</td>\n",
       "      <td>National</td>\n",
       "      <td>11249</td>\n",
       "      <td>0</td>\n",
       "      <td>4.98</td>\n",
       "    </tr>\n",
       "    <tr>\n",
       "      <th>2013-01-01</th>\n",
       "      <td>CA_3</td>\n",
       "      <td>FOODS_3_252</td>\n",
       "      <td>d_704</td>\n",
       "      <td>2013</td>\n",
       "      <td>1</td>\n",
       "      <td>4</td>\n",
       "      <td>Tuesday</td>\n",
       "      <td>NewYear</td>\n",
       "      <td>National</td>\n",
       "      <td>11249</td>\n",
       "      <td>0</td>\n",
       "      <td>4.98</td>\n",
       "    </tr>\n",
       "    <tr>\n",
       "      <th>2013-01-01</th>\n",
       "      <td>CA_3</td>\n",
       "      <td>FOODS_3_288</td>\n",
       "      <td>d_704</td>\n",
       "      <td>2013</td>\n",
       "      <td>1</td>\n",
       "      <td>4</td>\n",
       "      <td>Tuesday</td>\n",
       "      <td>NewYear</td>\n",
       "      <td>National</td>\n",
       "      <td>11249</td>\n",
       "      <td>20</td>\n",
       "      <td>4.28</td>\n",
       "    </tr>\n",
       "    <tr>\n",
       "      <th>...</th>\n",
       "      <td>...</td>\n",
       "      <td>...</td>\n",
       "      <td>...</td>\n",
       "      <td>...</td>\n",
       "      <td>...</td>\n",
       "      <td>...</td>\n",
       "      <td>...</td>\n",
       "      <td>...</td>\n",
       "      <td>...</td>\n",
       "      <td>...</td>\n",
       "      <td>...</td>\n",
       "      <td>...</td>\n",
       "    </tr>\n",
       "    <tr>\n",
       "      <th>2015-11-30</th>\n",
       "      <td>CA_4</td>\n",
       "      <td>FOODS_3_329</td>\n",
       "      <td>d_1767</td>\n",
       "      <td>2015</td>\n",
       "      <td>11</td>\n",
       "      <td>3</td>\n",
       "      <td>Monday</td>\n",
       "      <td>no_event</td>\n",
       "      <td>no_event</td>\n",
       "      <td>11544</td>\n",
       "      <td>9</td>\n",
       "      <td>1.68</td>\n",
       "    </tr>\n",
       "    <tr>\n",
       "      <th>2015-11-30</th>\n",
       "      <td>CA_4</td>\n",
       "      <td>FOODS_3_555</td>\n",
       "      <td>d_1767</td>\n",
       "      <td>2015</td>\n",
       "      <td>11</td>\n",
       "      <td>3</td>\n",
       "      <td>Monday</td>\n",
       "      <td>no_event</td>\n",
       "      <td>no_event</td>\n",
       "      <td>11544</td>\n",
       "      <td>26</td>\n",
       "      <td>2.48</td>\n",
       "    </tr>\n",
       "    <tr>\n",
       "      <th>2015-11-30</th>\n",
       "      <td>CA_4</td>\n",
       "      <td>FOODS_3_586</td>\n",
       "      <td>d_1767</td>\n",
       "      <td>2015</td>\n",
       "      <td>11</td>\n",
       "      <td>3</td>\n",
       "      <td>Monday</td>\n",
       "      <td>no_event</td>\n",
       "      <td>no_event</td>\n",
       "      <td>11544</td>\n",
       "      <td>13</td>\n",
       "      <td>2.48</td>\n",
       "    </tr>\n",
       "    <tr>\n",
       "      <th>2015-11-30</th>\n",
       "      <td>CA_4</td>\n",
       "      <td>FOODS_3_587</td>\n",
       "      <td>d_1767</td>\n",
       "      <td>2015</td>\n",
       "      <td>11</td>\n",
       "      <td>3</td>\n",
       "      <td>Monday</td>\n",
       "      <td>no_event</td>\n",
       "      <td>no_event</td>\n",
       "      <td>11544</td>\n",
       "      <td>11</td>\n",
       "      <td>1.58</td>\n",
       "    </tr>\n",
       "    <tr>\n",
       "      <th>2015-11-30</th>\n",
       "      <td>CA_4</td>\n",
       "      <td>FOODS_3_714</td>\n",
       "      <td>d_1767</td>\n",
       "      <td>2015</td>\n",
       "      <td>11</td>\n",
       "      <td>3</td>\n",
       "      <td>Monday</td>\n",
       "      <td>no_event</td>\n",
       "      <td>no_event</td>\n",
       "      <td>11544</td>\n",
       "      <td>9</td>\n",
       "      <td>1.58</td>\n",
       "    </tr>\n",
       "  </tbody>\n",
       "</table>\n",
       "<p>21280 rows × 12 columns</p>\n",
       "</div>"
      ],
      "text/plain": [
       "           store_id      item_id       d  ... wm_yr_wk sales sell_price\n",
       "date                                      ...                          \n",
       "2013-01-01     CA_3  FOODS_3_090   d_704  ...    11249     0       1.25\n",
       "2013-01-01     CA_3  FOODS_3_120   d_704  ...    11249    33       1.25\n",
       "2013-01-01     CA_3  FOODS_3_202   d_704  ...    11249     0       4.98\n",
       "2013-01-01     CA_3  FOODS_3_252   d_704  ...    11249     0       4.98\n",
       "2013-01-01     CA_3  FOODS_3_288   d_704  ...    11249    20       4.28\n",
       "...             ...          ...     ...  ...      ...   ...        ...\n",
       "2015-11-30     CA_4  FOODS_3_329  d_1767  ...    11544     9       1.68\n",
       "2015-11-30     CA_4  FOODS_3_555  d_1767  ...    11544    26       2.48\n",
       "2015-11-30     CA_4  FOODS_3_586  d_1767  ...    11544    13       2.48\n",
       "2015-11-30     CA_4  FOODS_3_587  d_1767  ...    11544    11       1.58\n",
       "2015-11-30     CA_4  FOODS_3_714  d_1767  ...    11544     9       1.58\n",
       "\n",
       "[21280 rows x 12 columns]"
      ]
     },
     "execution_count": 4,
     "metadata": {},
     "output_type": "execute_result"
    }
   ],
   "source": [
    "df = pd.concat([cat,num], axis=1)\n",
    "df"
   ]
  },
  {
   "cell_type": "markdown",
   "metadata": {},
   "source": [
    "### Intermitent demand variables\n",
    "\n",
    "#### This variable should identify how many days in a row there are 0 sales.\n",
    "#### Given N days without sales then we assume there is stock outage."
   ]
  },
  {
   "cell_type": "code",
   "execution_count": null,
   "metadata": {},
   "outputs": [],
   "source": [
    "def stock_outage(sales, n):\n",
    "    zero_sales = pd.Series(np.where(sales == 0, 1, 0))\n",
    "    num_zeros = zero_sales.rolling(n).sum()\n",
    "    stock_outage = np.where(num_zeros == n, 1, 0)\n",
    "    return stock_outage"
   ]
  },
  {
   "cell_type": "code",
   "execution_count": null,
   "metadata": {},
   "outputs": [],
   "source": []
  },
  {
   "cell_type": "code",
   "execution_count": null,
   "metadata": {},
   "outputs": [],
   "source": []
  },
  {
   "cell_type": "code",
   "execution_count": null,
   "metadata": {},
   "outputs": [],
   "source": []
  },
  {
   "cell_type": "code",
   "execution_count": null,
   "metadata": {},
   "outputs": [],
   "source": []
  },
  {
   "cell_type": "code",
   "execution_count": null,
   "metadata": {},
   "outputs": [],
   "source": []
  },
  {
   "cell_type": "code",
   "execution_count": null,
   "metadata": {},
   "outputs": [],
   "source": []
  },
  {
   "cell_type": "code",
   "execution_count": null,
   "metadata": {},
   "outputs": [],
   "source": []
  },
  {
   "cell_type": "code",
   "execution_count": null,
   "metadata": {},
   "outputs": [],
   "source": []
  },
  {
   "cell_type": "code",
   "execution_count": null,
   "metadata": {},
   "outputs": [],
   "source": []
  },
  {
   "cell_type": "code",
   "execution_count": null,
   "metadata": {},
   "outputs": [],
   "source": []
  },
  {
   "cell_type": "code",
   "execution_count": null,
   "metadata": {},
   "outputs": [],
   "source": []
  },
  {
   "cell_type": "code",
   "execution_count": null,
   "metadata": {},
   "outputs": [],
   "source": []
  },
  {
   "cell_type": "code",
   "execution_count": null,
   "metadata": {},
   "outputs": [],
   "source": []
  },
  {
   "cell_type": "code",
   "execution_count": null,
   "metadata": {},
   "outputs": [],
   "source": []
  },
  {
   "cell_type": "code",
   "execution_count": null,
   "metadata": {},
   "outputs": [],
   "source": []
  },
  {
   "cell_type": "code",
   "execution_count": null,
   "metadata": {},
   "outputs": [],
   "source": []
  }
 ],
 "metadata": {
  "kernelspec": {
   "display_name": "retail",
   "language": "python",
   "name": "python3"
  },
  "language_info": {
   "codemirror_mode": {
    "name": "ipython",
    "version": 3
   },
   "file_extension": ".py",
   "mimetype": "text/x-python",
   "name": "python",
   "nbconvert_exporter": "python",
   "pygments_lexer": "ipython3",
   "version": "3.9.7"
  },
  "orig_nbformat": 4
 },
 "nbformat": 4,
 "nbformat_minor": 2
}
