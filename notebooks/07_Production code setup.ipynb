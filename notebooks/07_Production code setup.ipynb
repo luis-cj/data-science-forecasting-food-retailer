{
 "cells": [
  {
   "cell_type": "markdown",
   "metadata": {},
   "source": [
    "# Production code setup"
   ]
  },
  {
   "cell_type": "markdown",
   "metadata": {},
   "source": [
    "## Capture all the project stages in functions"
   ]
  },
  {
   "cell_type": "markdown",
   "metadata": {},
   "source": [
    "### Cleaning the data"
   ]
  },
  {
   "cell_type": "code",
   "execution_count": null,
   "metadata": {},
   "outputs": [],
   "source": [
    "def cleaning_data(x):\n",
    "    \n",
    "    # Modify data types\n",
    "    temp = x.astype({\"month\": \"O\", \"wday\": \"O\"})             \n",
    "    \n",
    "    # Fill null values\n",
    "    temp.loc[x[\"event_name_1\"].isna(),\"event_name_1\"] = 'no_event'\n",
    "\n",
    "    def fill_mode(records):\n",
    "        '''''\n",
    "        Function that fills the null values of\n",
    "        the records with values with the mode of that same product.\n",
    "        Returns the same records but with no nulls.\n",
    "        '''''\n",
    "        mode = records[\"sell_price\"].mode()[0]\n",
    "        records.loc[records[\"sell_price\"].isna(), \"sell_price\"] = mode\n",
    "        return records\n",
    "\n",
    "    temp = temp.groupby('item_id').apply(fill_mode)\n",
    "      \n",
    "    return(temp)"
   ]
  },
  {
   "cell_type": "markdown",
   "metadata": {},
   "source": [
    "### Create variables"
   ]
  },
  {
   "cell_type": "code",
   "execution_count": null,
   "metadata": {},
   "outputs": [],
   "source": [
    "def create_variables(x):\n",
    "\n",
    "    # Intermittent demand\n",
    "\n",
    "    def stock_outage(sales, n):\n",
    "        '''''\n",
    "        Function that returns a binary variable, with a value of 1 after N days of\n",
    "        0 sales in a row. It takes as an input the sales variable and the number of days\n",
    "        N.\n",
    "        '''''\n",
    "        zero_sales = pd.Series(np.where(sales == 0, 1, 0))\n",
    "        num_zeros = zero_sales.rolling(n).sum()\n",
    "        stock_outage = np.where(num_zeros == n, 1, 0)\n",
    "\n",
    "        return stock_outage\n",
    "    \n",
    "    x = x.sort_values(by = ['store_id','item_id','date'])\n",
    "    x[\"stock_outage_3\"] = x.groupby([\"store_id\", \"item_id\"])[\"sales\"].transform(lambda x: stock_outage(x,3))\n",
    "    x[\"stock_outage_7\"] = x.groupby([\"store_id\", \"item_id\"])[\"sales\"].transform(lambda x: stock_outage(x,7))\n",
    "    x[\"stock_outage_15\"] = x.groupby([\"store_id\", \"item_id\"])[\"sales\"].transform(lambda x: stock_outage(x,15))\n",
    "\n",
    "\n",
    "    # Lags variables\n",
    "\n",
    "    def create_lags(x, variable, n_lags):\n",
    "        '''''\n",
    "        Function that returns a dataframe with a n_lags variables which receive the\n",
    "        name of the input variable + \"_lag_\". Its value is just the shift of n_lags\n",
    "        backwards.\n",
    "        '''''\n",
    "        lags = pd.DataFrame()\n",
    "\n",
    "        #create all lags\n",
    "        for i in range(1, n_lags+1):\n",
    "            lags[variable + \"_lag_\" + str(i)] = df[variable].shift(i)\n",
    "\n",
    "        return lags\n",
    "    \n",
    "    lags_sell_price_x = x.groupby([\"store_id\", \"item_id\"]).apply(lambda x: create_lags(df=x, variable=\"sell_price\", n_lags=7))\n",
    "    lags_stock_outage_3_x = x.groupby([\"store_id\", \"item_id\"]).apply(lambda x: create_lags(df=x, variable=\"stock_outage_3\", n_lags=1))\n",
    "    lags_stock_outage_7_x = x.groupby([\"store_id\", \"item_id\"]).apply(lambda x: create_lags(df=x, variable=\"stock_outage_7\", n_lags=1))\n",
    "    lags_stock_outage_15_x = x.groupby([\"store_id\", \"item_id\"]).apply(lambda x: create_lags(df=x, variable=\"stock_outage_15\", n_lags=1))\n",
    "    lags_sales_x = x.groupby([\"store_id\", \"item_id\"]).apply(lambda x: create_lags(df=x, variable=\"sales\", n_lags=15))\n",
    "\n",
    "\n",
    "    # Moving window variables\n",
    "\n",
    "    def moving_minimum(x, variable, n_days):\n",
    "        '''''\n",
    "        Function that returns a dataframe with a n_days-1 variables. \n",
    "        It checks the variable \"variable\" and takes the minimum of the last i values\n",
    "        for each record of the original dataset df.\n",
    "        '''''\n",
    "        mvgmin = pd.DataFrame()\n",
    "\n",
    "        for i in range(2, n_days+1):\n",
    "            mvgmin[variable + \"_mvgmin_\" + str(i)] = x[variable].shift(1).rolling(i).min()\n",
    "\n",
    "        return mvgmin\n",
    "    \n",
    "    def moving_average(x, variable, n_days):\n",
    "    \n",
    "        mvgmean = pd.DataFrame()\n",
    "\n",
    "        for i in range(2, n_days+1):\n",
    "            mvgmean[variable + \"_mvgmean_\" + str(i)] = x[variable].shift(1).rolling(i).mean()\n",
    "\n",
    "        return mvgmean\n",
    "    \n",
    "    def moving_maximum(x, variable, n_days):\n",
    "\n",
    "        mvgmax = pd.DataFrame()\n",
    "\n",
    "        for i in range(2, n_days+1):\n",
    "            mvgmax[variable + \"_mvgmax_\" + str(i)] = x[variable].shift(1).rolling(i).max()\n",
    "\n",
    "        return mvgmax\n",
    "    \n",
    "    moving_minimum_x = x.groupby([\"store_id\",\"item_id\"]).apply(lambda x: moving_minimum(df=x, variable=\"sales\", n_days = 15))\n",
    "    moving_average_x = x.groupby([\"store_id\",\"item_id\"]).apply(lambda x: moving_average(df=x, variable=\"sales\", n_days = 15))\n",
    "    moving_maximum_x = x.groupby([\"store_id\",\"item_id\"]).apply(lambda x: moving_maximum(df=x, variable=\"sales\", n_days = 15))\n",
    "\n",
    "\n",
    "    # Join all the dataframes\n",
    "\n",
    "    temp = pd.concat([lags_sell_price_x,\n",
    "                    lags_stock_outage_3_x,\n",
    "                    lags_stock_outage_7_x,\n",
    "                    lags_stock_outage_15_x,\n",
    "                    lags_sales_x,\n",
    "                    moving_minimum_x,\n",
    "                    moving_average_x,\n",
    "                    moving_maximum_x], axis=1)\n",
    "    \n",
    "    x_concat = pd.concat([x, temp], axis=1)\n",
    "\n",
    "    x_concat.dropna(inplace=True)\n",
    "\n",
    "    to_remove = [\"d\",\"wm_yr_wk\",\"sell_price\",\"stock_outage_3\",\"stock_outage_7\",\"stock_outage_15\"]\n",
    "    x_concat.drop(columns=to_remove, inplace=True)\n",
    "\n",
    "    # Create a single variable for the product-store feature\n",
    "    x_concat.insert(loc=0, column=\"product_store\", value=(x_concat[\"store_id\"] + \"_\" + x_concat[\"item_id\"]))\n",
    "    x_concat.drop(columns=[\"item_id\",\"store_id\"], inplace=True)\n",
    "\n",
    "    return x_concat\n",
    "\n"
   ]
  },
  {
   "cell_type": "markdown",
   "metadata": {},
   "source": [
    "### Feature Engineering"
   ]
  },
  {
   "cell_type": "code",
   "execution_count": null,
   "metadata": {},
   "outputs": [],
   "source": []
  }
 ],
 "metadata": {
  "kernelspec": {
   "display_name": "retail_venv",
   "language": "python",
   "name": "python3"
  },
  "language_info": {
   "name": "python",
   "version": "3.11.4"
  },
  "orig_nbformat": 4
 },
 "nbformat": 4,
 "nbformat_minor": 2
}
